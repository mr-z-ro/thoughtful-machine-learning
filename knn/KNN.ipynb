{
 "cells": [
  {
   "cell_type": "markdown",
   "metadata": {
    "deletable": true,
    "editable": true
   },
   "source": [
    "# K Nearest Neighbors Demo\n",
    "\n",
    "*Matt Grasser, 11 Sept 2017*\n",
    "\n",
    "The following notebook includes a walkthrough of the KNN demonstration from Matt Kirk's Thoughtful ML in Python. His repo including data and other supplementary files can be found [here](https://github.com/thoughtfulml/examples-in-python/blob/master/k-nearest-neighbors/data/king_county_data_geocoded.csv)."
   ]
  },
  {
   "cell_type": "code",
   "execution_count": 1,
   "metadata": {
    "collapsed": true
   },
   "outputs": [],
   "source": [
    "%matplotlib inline"
   ]
  },
  {
   "cell_type": "code",
   "execution_count": 2,
   "metadata": {
    "collapsed": true,
    "deletable": true,
    "editable": true
   },
   "outputs": [],
   "source": [
    "import random\n",
    "import sys\n",
    "\n",
    "from pandas import Series, DataFrame\n",
    "import pandas as pd\n",
    "import numpy as np\n",
    "import numpy.random as npr\n",
    "from scipy.spatial import KDTree\n",
    "from sklearn.metrics import mean_absolute_error\n",
    "import matplotlib.pyplot as plt"
   ]
  },
  {
   "cell_type": "code",
   "execution_count": 3,
   "metadata": {
    "collapsed": true,
    "deletable": true,
    "editable": true
   },
   "outputs": [],
   "source": [
    "# KDTree will throw an error unless this is set higher\n",
    "sys.setrecursionlimit(10000)"
   ]
  },
  {
   "cell_type": "code",
   "execution_count": 4,
   "metadata": {
    "collapsed": false,
    "deletable": true,
    "editable": true
   },
   "outputs": [],
   "source": [
    "class Regression:\n",
    "    \"\"\"A class for performing K nearest neighbors regression and calculating error rates on a data set\"\"\"\n",
    "    \n",
    "    def __init__(self, csv_file=None, data=None, values=None):\n",
    "        \"\"\"Create an instance of the Regression class\"\"\"\n",
    "        # Read data\n",
    "        if data is None and csv_file is not None:\n",
    "            # Read file\n",
    "            df = pd.read_csv(csv_file)\n",
    "            \n",
    "            # Split into input variables and objective\n",
    "            self.values = df['AppraisedValue']\n",
    "            df = df.drop('AppraisedValue', 1)\n",
    "            \n",
    "            # Normalize input variables to avoid skewing results\n",
    "            df = (df-df.mean()) / (df.max() - df.min())\n",
    "            \n",
    "            # Set up the dataframe we'll work with using only the relevant columns\n",
    "            self.df = df\n",
    "            self.df = self.df[['lat', 'long', 'SqFtLot']]\n",
    "        elif data is not None and values is not None:\n",
    "            self.df = data\n",
    "            self.values = values\n",
    "        else:\n",
    "            raise ValueError(\"Must have either csv_file or data set\")\n",
    "            \n",
    "        # Set up algorithmic params and functions\n",
    "        self.n = len(self.df)\n",
    "        self.kdtree = KDTree(self.df)\n",
    "        self.metric = np.mean\n",
    "        self.k = 5\n",
    "    \n",
    "    def regress(self, query_point):\n",
    "        \"\"\"Run the actual regression as defined by the self.metric function\"\"\"\n",
    "        # Get closest `k` neighbors\n",
    "        distances, indexes = self.kdtree.query(query_point, self.k)\n",
    "        \n",
    "        # Calculate the metric based on those neighbors and return it\n",
    "        m = self.metric(self.values.iloc[indexes])\n",
    "        if np.isnan(m):\n",
    "            # zomg\n",
    "            pass\n",
    "        else:\n",
    "            return m\n",
    "    \n",
    "    def error_rate(self, folds):\n",
    "        \"\"\"Calculate the error rate in model on a test ('holdout') data set\"\"\"\n",
    "        holdout = 1 / float(folds)\n",
    "        errors = []\n",
    "        for fold in range(folds):\n",
    "            y_hat, y_true = self.__validation_data(holdout)\n",
    "            errors.append(mean_absolute_error(y_true, y_hat))\n",
    "        return errors\n",
    "    \n",
    "    def __validation_data(self, holdout):\n",
    "        \"\"\"Split data into training and test sets, run regression, return derived and actual y values\"\"\"\n",
    "        # Calculate Indexes\n",
    "        test_rows = random.sample(self.df.index, int(round(len(self.df) * holdout)))\n",
    "        train_rows = set(range(len(self.df))) - set(test_rows)\n",
    "        \n",
    "        # Split the data set into training/test variables and objectives\n",
    "        df_test = self.df.ix[test_rows]\n",
    "        df_train = self.df.drop(test_rows)\n",
    "        test_values = self.values.ix[test_rows]\n",
    "        train_values = self.values.ix[train_rows]\n",
    "        \n",
    "        # Perform regression\n",
    "        kd = Regression(data=df_train, values=train_values)\n",
    "        y_hat = []\n",
    "        y_actual = []\n",
    "        for idx, row in df_test.iterrows():\n",
    "            y_hat.append(kd.regress(row))\n",
    "            y_actual.append(self.values[idx])\n",
    "        \n",
    "        return (y_hat, y_actual)\n",
    "    \n",
    "    def plot_error_rates(self):\n",
    "        \"\"\"Plot the error rates for different fold counts\"\"\"\n",
    "        folds = range(2, 11)\n",
    "        errors = pd.DataFrame({'max':0, 'min':0}, index=folds)\n",
    "        for f in folds:\n",
    "            error_rates = self.error_rate(f)\n",
    "            errors['max'][f] = max(error_rates)\n",
    "            errors['min'][f] = min(error_rates)\n",
    "        errors.plot(title=\"Mean Absolute Error of KNN over different folds\")\n",
    "        plt.show()"
   ]
  },
  {
   "cell_type": "code",
   "execution_count": 5,
   "metadata": {
    "collapsed": false,
    "deletable": true,
    "editable": true
   },
   "outputs": [],
   "source": [
    "r = Regression('data/king_county_data_geocoded.csv')"
   ]
  },
  {
   "cell_type": "code",
   "execution_count": 6,
   "metadata": {
    "collapsed": false,
    "deletable": true,
    "editable": true
   },
   "outputs": [
    {
     "data": {
      "image/png": "[encoded data removed]",
      "text/plain": [
       "<matplotlib.figure.Figure at 0x1136e8890>"
      ]
     },
     "metadata": {},
     "output_type": "display_data"
    }
   ],
   "source": [
    "r.plot_error_rates()"
   ]
  }
 ],
 "metadata": {
  "kernelspec": {
   "display_name": "Python 2",
   "language": "python",
   "name": "python2"
  },
  "language_info": {
   "codemirror_mode": {
    "name": "ipython",
    "version": 2
   },
   "file_extension": ".py",
   "mimetype": "text/x-python",
   "name": "python",
   "nbconvert_exporter": "python",
   "pygments_lexer": "ipython2",
   "version": "2.7.10"
  }
 },
 "nbformat": 4,
 "nbformat_minor": 2
}
